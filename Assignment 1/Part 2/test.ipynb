{
 "cells": [
  {
   "cell_type": "code",
   "execution_count": 11,
   "metadata": {},
   "outputs": [],
   "source": [
    "from itertools import combinations\n",
    "import numpy as np\n",
    "import tensorflow as tf"
   ]
  },
  {
   "cell_type": "code",
   "execution_count": 13,
   "metadata": {},
   "outputs": [
    {
     "name": "stdout",
     "output_type": "stream",
     "text": [
      "(1, 2)\n",
      "(1, 3)\n",
      "(2, 3)\n"
     ]
    }
   ],
   "source": [
    "for i in combinations(a, 2):\n",
    "  print(i)"
   ]
  },
  {
   "cell_type": "code",
   "execution_count": 5,
   "metadata": {},
   "outputs": [
    {
     "name": "stdout",
     "output_type": "stream",
     "text": [
      "[1 2]\n"
     ]
    }
   ],
   "source": [
    "a = np.array([1,2,3])\n",
    "print(a[:2])"
   ]
  },
  {
   "cell_type": "code",
   "execution_count": 17,
   "metadata": {},
   "outputs": [
    {
     "name": "stdout",
     "output_type": "stream",
     "text": [
      "[(1, 2), (3, 4), (-1, 2), (5, 7)]\n"
     ]
    }
   ],
   "source": [
    "s = [(1,2),(3,4),(-1,2)]\n",
    "if (3,2) in s:\n",
    "  print('yes')\n",
    "  \n",
    "s += ((5,7),)\n",
    "print(s)"
   ]
  },
  {
   "cell_type": "code",
   "execution_count": 19,
   "metadata": {},
   "outputs": [
    {
     "name": "stdout",
     "output_type": "stream",
     "text": [
      "None\n",
      "[(-1, 2), (1, 2), (3, 4), (5, 7)]\n"
     ]
    }
   ],
   "source": [
    "print(s.sort(key=lambda x:x[0]))\n",
    "print(s)"
   ]
  },
  {
   "cell_type": "code",
   "execution_count": 28,
   "metadata": {},
   "outputs": [
    {
     "name": "stdout",
     "output_type": "stream",
     "text": [
      "[[(0, 0), (0, -1), (0, -2)], [(0, 0), (1, -1), (2, -2)], [(0, 0), (2, -1), (4, -2)], [(0, 0), (3, -1), (6, -2)], [(0, 0), (4, -1), (8, -2)]]\n"
     ]
    }
   ],
   "source": [
    "X = [[(i*j, -i) for i in range(3)] for j in range(5)]\n",
    "X.sort(key=lambda x: x[0][0])\n",
    "print(X)"
   ]
  },
  {
   "cell_type": "code",
   "execution_count": 16,
   "metadata": {},
   "outputs": [
    {
     "name": "stdout",
     "output_type": "stream",
     "text": [
      "[(1, 2), (4, 5), (2, 7)]\n"
     ]
    }
   ],
   "source": [
    "k = [(1,2),(4,5),(2,7)]\n",
    "\n",
    "a = k\n",
    "a = [(1,2)]\n",
    "print(k)"
   ]
  },
  {
   "cell_type": "code",
   "execution_count": 20,
   "metadata": {},
   "outputs": [
    {
     "name": "stdout",
     "output_type": "stream",
     "text": [
      "a\n",
      "b\n"
     ]
    }
   ],
   "source": [
    "a = {'a': 1, 'b': 2}\n",
    "for i in a:\n",
    "  print(i)"
   ]
  },
  {
   "cell_type": "code",
   "execution_count": 22,
   "metadata": {},
   "outputs": [
    {
     "name": "stdout",
     "output_type": "stream",
     "text": [
      "0 a\n",
      "1 b\n"
     ]
    }
   ],
   "source": [
    "b =[2,3,4,1,3]\n",
    "for i, val in enumerate(a):\n",
    "  print(i, val)"
   ]
  },
  {
   "cell_type": "code",
   "execution_count": null,
   "metadata": {},
   "outputs": [],
   "source": []
  },
  {
   "cell_type": "code",
   "execution_count": 2,
   "metadata": {},
   "outputs": [
    {
     "ename": "TypeError",
     "evalue": "'tuple' object does not support item assignment",
     "output_type": "error",
     "traceback": [
      "\u001b[0;31m---------------------------------------------------------------------------\u001b[0m",
      "\u001b[0;31mTypeError\u001b[0m                                 Traceback (most recent call last)",
      "Cell \u001b[0;32mIn[2], line 2\u001b[0m\n\u001b[1;32m      1\u001b[0m l \u001b[38;5;241m=\u001b[39m (\u001b[38;5;241m1\u001b[39m,\u001b[38;5;241m2\u001b[39m)\n\u001b[0;32m----> 2\u001b[0m \u001b[43ml\u001b[49m\u001b[43m[\u001b[49m\u001b[38;5;241;43m0\u001b[39;49m\u001b[43m]\u001b[49m \u001b[38;5;241m=\u001b[39m \u001b[38;5;241m7\u001b[39m\n\u001b[1;32m      3\u001b[0m \u001b[38;5;28mprint\u001b[39m(l)\n",
      "\u001b[0;31mTypeError\u001b[0m: 'tuple' object does not support item assignment"
     ]
    }
   ],
   "source": [
    "l = (1,2)\n",
    "l[0] = 7\n",
    "print(l)"
   ]
  },
  {
   "cell_type": "code",
   "execution_count": null,
   "metadata": {},
   "outputs": [],
   "source": [
    "def cornersHeuristic(state, problem, prev_state):\n",
    "    \"\"\"\n",
    "    A heuristic for the CornersProblem that you defined.\n",
    "\n",
    "      state:   The current search state\n",
    "               (a data structure you chose in your search problem)\n",
    "\n",
    "      problem: The CornersProblem instance for this layout.\n",
    "\n",
    "    This function should always return a number that is a lower bound on the\n",
    "    shortest path from the state to a goal of the problem; i.e.  it should be\n",
    "    admissible (as well as consistent).\n",
    "    \"\"\"\n",
    "    corners = problem.corners # These are the corner coordinates\n",
    "    walls = problem.walls # These are the walls of the maze, as a Grid (game.py)\n",
    "\n",
    "    \"*** YOUR CODE HERE ***\"\n",
    "\n",
    "    if not prev_state:\n",
    "        return min([manhattanDist(state[0], goal) for goal in corners])\n",
    "    prev_pos, prev_corners_reached = prev_state\n",
    "    # if pos in corners:\n",
    "    #     if corners_reached[corners.index(pos)] == True:\n",
    "    #         return 0\n",
    "    \n",
    "    prev_state_distances = [(manhattanDist(prev_pos, goal), corners.index(goal)) for goal in corners if not prev_corners_reached[corners.index(goal)]]\n",
    "\n",
    "    prev_state_distances.sort(key=lambda x: x[0])\n",
    "    \n",
    "    # if not successors:\n",
    "    #     return state_distances[-1][0]\n",
    "    pos, corners_reached = state\n",
    "    state_distances = [(manhattanDist(pos, corners[x[1]]), x[1]) for x in prev_state_distances]\n",
    "    \n",
    "    for idx in range(len(state_distances)):\n",
    "        dist = state_distances[idx][0]\n",
    "        if dist > prev_state_distances[idx][0] and dist > 0:\n",
    "            return dist\n",
    "\n",
    "    return max(state_distances, key=lambda x: x[0])[0]\n",
    "        # if prev_state_distances\n",
    "    \n",
    "    # succ_distances = [[(manhattanDist(s[0][0], goal), corners.index(goal)) for goal in corners if not corners_reached[corners.index(goal)]] for s in successors]\n",
    "    # print(succ_distances)\n",
    "    # print('\\n')\n",
    "    # if not succ_distances[0]:\n",
    "        \n",
    "    # succ_distances.sort(key=lambda x: x[0][0])\n",
    "    \n",
    "    # order_heuristic = [[] for _ in range(len(state_distances))]\n",
    "    \n",
    "    # for idx in range(len(state_distances)):\n",
    "    #     for s in succ_distances:\n",
    "    #         if s[idx][1] == state_distances[idx][1] and s[idx][0] < state_distances[idx][0]:\n",
    "    #             order_heuristic[idx].append(s[idx][0])\n",
    "    #     if order_heuristic[idx]:\n",
    "    #         return min(order_heuristic[idx])\n",
    "\n",
    "    # return state_distances[-1][0]"
   ]
  },
  {
   "cell_type": "markdown",
   "metadata": {},
   "source": [
    "### This results in even more nodes being expanded. Let's take a step back and make sure both of us are on the same page in terms of understanding the purpose of my heuristic and that it will really help in expanding less number of nodes. So, in a sense by checking how close the successor gets to an already closest goal corner, we are providing a good direction in terms of being able to reach an already close and 'reachable' goal. We have to make sure that we are not naive to the walls of the maze. I already check for legal successors when providing them and before pushing them into the priority queue. But, if a successor is unable to get closer to an already closest goal state, then we have to assume that there must be some other sibling successor that does that. Although, if none of the successors go close to an already closest goal state then that means that there is a wall block out a 'what could have been' the direct path to that goal. I want to encode this information as well. That is if none get closer to the closest goal, then we must proceed towards a corner which is the second closest and choose a successor which is the closest to this second best goal. However, at a time while evaluating the heuristic of a successor, we only have access to its previous state. Using, these details and intuition, I want you to devise this heuristic which is also consistent. You may also refer to the code that I provided earlier (which was consistent). But, make sure to be logically accurate."
   ]
  },
  {
   "cell_type": "code",
   "execution_count": null,
   "metadata": {},
   "outputs": [],
   "source": [
    "def aStarSearch(problem, heuristic=nullHeuristic):\n",
    "    \"\"\"Search the node that has the lowest combined cost and heuristic first.\"\"\"\n",
    "    \"*** YOUR CODE HERE ***\"\n",
    "    \n",
    "    L = PriorityQueue()\n",
    "    \n",
    "    start_node = Node(problem.getStartState(), None, None, 0, 0)\n",
    "\n",
    "    # L.push(start_node, start_node.cost + heuristic(start_node.state, problem, []))\n",
    "    L.push(start_node, start_node.cost + heuristic(start_node.state, problem))\n",
    "    visited = set()\n",
    "    v = set()\n",
    "    H = set()\n",
    "    while not L.isEmpty():\n",
    "        current_node = L.pop()\n",
    "        current_state = current_node.state\n",
    "        if problem.isGoalState(current_state):\n",
    "            # printHeatMap(H, problem)\n",
    "            return current_node.getPath()\n",
    "        # h = []\n",
    "        if current_state[:2] not in visited:\n",
    "            if current_state[0] not in v:\n",
    "                H.add((current_state[0], current_node.h))\n",
    "                v.add(current_state[0])\n",
    "                \n",
    "            visited.add(current_state[:2])\n",
    "            successors = problem.getSuccessors(current_state)\n",
    "            # if not successors:\n",
    "            #     print('HI')\n",
    "            # print(len(H))\n",
    "            # if len(H) == 194:\n",
    "            #     printHeatMap(H, problem)\n",
    "            # np.savetxt('file3.txt', np.array(H))\n",
    "            for s in successors:\n",
    "                # if s[:2] not in visited:\n",
    "                    temp = heuristic(s[0], problem)\n",
    "                    # h.append(temp)\n",
    "                    L.push(Node(s[0], s[1], current_node, current_node.cost + s[2], current_node.cost + s[2] + temp), current_node.cost + s[2] + temp)\n",
    "        # H.append(h)\n",
    "    \n",
    "    return []"
   ]
  },
  {
   "cell_type": "code",
   "execution_count": null,
   "metadata": {},
   "outputs": [],
   "source": [
    "        for action in [Directions.NORTH, Directions.SOUTH, Directions.EAST, Directions.WEST]:\n",
    "            pos, corners_reached, _ = state\n",
    "            x, y = pos\n",
    "            dx, dy = Actions.directionToVector(action)\n",
    "            nextx, nexty = int(x + dx), int(y + dy)\n",
    "            next_pos = (nextx, nexty)\n",
    "\n",
    "            if not self.walls[nextx][nexty]:\n",
    "                prev_corners_reached = corners_reached\n",
    "                if next_pos in self.corners:\n",
    "                    corners_reached = list(corners_reached)\n",
    "                    corners_reached[self.corners.index(next_pos)] = True\n",
    "                    # self.visited.add(next_pos)\n",
    "                successors.append( ((next_pos, tuple(corners_reached), (pos, prev_corners_reached)), action, 1) )"
   ]
  },
  {
   "cell_type": "code",
   "execution_count": null,
   "metadata": {},
   "outputs": [],
   "source": [
    "import numpy as np\n",
    "import matplotlib.pyplot as plt\n",
    "from Node import Node\n",
    "from scipy.interpolate import griddata\n",
    "\n",
    "def printHeatMap(H, problem):\n",
    "\n",
    "    coordinates, h_values = zip(*H)\n",
    "    x_coords, y_coords = zip(*coordinates)\n",
    "    x_coords = np.array(x_coords)\n",
    "    y_coords = np.array(y_coords)\n",
    "    h_values = np.array(h_values)\n",
    "\n",
    "    walls_list = list(problem.gameState.getWalls())\n",
    "    \n",
    "    fig = plt.figure()\n",
    "    ax = fig.add_subplot(111, projection='3d')\n",
    "    \n",
    "    x_grid = np.linspace(min(x_coords), max(x_coords), 100)\n",
    "    y_grid = np.linspace(min(y_coords), max(y_coords), 100)\n",
    "    x_grid, y_grid = np.meshgrid(x_grid, y_grid)\n",
    "\n",
    "    z_values = griddata((x_coords, y_coords), h_values, (x_grid, y_grid), method='cubic')\n",
    "\n",
    "    ax.plot_surface(x_grid, y_grid, z_values, cmap='cool')\n",
    "\n",
    "    \n",
    "    walls = np.array(walls_list)\n",
    "    W = [[(i, j) for j in range(walls.shape[1]) if walls[i,j] == True] for i in range(walls.shape[0])]\n",
    "    for coordinates in W:\n",
    "        if coordinates:\n",
    "            x, y = zip(*coordinates)\n",
    "            plt.scatter(x, y,s=150,c='blue')\n",
    "\n",
    "    ax.set_xlim(0, 30)  # adjust the values as needed\n",
    "    ax.set_ylim(0, 30)  # adjust the values as needed\n",
    "    ax.set_title('Heuristic Evaluation 3D Plot with walls')\n",
    "    ax.set_xlabel('X Coordinate')\n",
    "    ax.set_ylabel('Y Coordinate')\n",
    "    ax.set_zlabel('Heuristic Value')\n",
    "\n",
    "    plt.show()\n"
   ]
  },
  {
   "cell_type": "code",
   "execution_count": null,
   "metadata": {},
   "outputs": [],
   "source": [
    "    def getStartState(self):\n",
    "        \"\"\"\n",
    "        Returns the start state (in your state space, not the full Pacman state\n",
    "        space)\n",
    "        \"\"\"\n",
    "        \"*** YOUR CODE HERE ***\"\n",
    "        # res = (self.startingPosition, (False, False, False, False), ((), (False, False, False, False)))\n",
    "        res = (self.startingPosition, (False, False, False, False), (1))\n",
    "        return res\n",
    "\n",
    "    def isGoalState(self, state):\n",
    "        \"\"\"\n",
    "        Returns whether this search state is a goal state of the problem.\n",
    "        \"\"\"\n",
    "        \n",
    "        for reached in state[1]:\n",
    "            if not reached:\n",
    "                return False\n",
    "        return True\n",
    "\n",
    "        \n",
    "    def getSuccessors(self, state):\n",
    "        \"\"\"\n",
    "        Returns successor states, the actions they require, and a cost of 1.\n",
    "\n",
    "        As noted in search.py:\n",
    "            For a given state, this should return a list of triples, (successor,\n",
    "            action, stepCost), where 'successor' is a successor to the current\n",
    "            state, 'action' is the action required to get there, and 'stepCost'\n",
    "            is the incremental cost of expanding to that successor\n",
    "        \"\"\"\n",
    "        successors = []\n",
    "        succ_distances = []\n",
    "            \n",
    "        for action in [Directions.NORTH, Directions.SOUTH, Directions.EAST, Directions.WEST]:\n",
    "            pos, corners_reached, rank = state\n",
    "            state_distances = [(manhattanDist(pos, goal), self.corners.index(goal)) for goal in self.corners if not corners_reached[self.corners.index(goal)]]\n",
    "            state_distances.sort(key=lambda x: x[0])\n",
    "            x, y = pos\n",
    "            dx, dy = Actions.directionToVector(action)\n",
    "            nextx, nexty = int(x + dx), int(y + dy)\n",
    "            next_pos = (nextx, nexty)\n",
    "\n",
    "            if not self.walls[nextx][nexty]:     \n",
    "                if next_pos in self.corners:\n",
    "                    corners_reached = list(corners_reached)\n",
    "                    corners_reached[self.corners.index(next_pos)] = True\n",
    "                s_distances = [(manhattanDist(next_pos, self.corners[x[1]]), x[1]) for x in state_distances]\n",
    "                succ_distances.append(s_distances)\n",
    "                successors.append( ((next_pos, tuple(corners_reached), max(s_distances, key=lambda x: x[0])[0]), action, 1) )\n",
    "        \n",
    "        ranks = [[] for _ in range(len(state_distances))]\n",
    "\n",
    "        for i in range(len(successors)):\n",
    "            for idx in range(len(state_distances)):\n",
    "                d = succ_distances[i][idx][0]\n",
    "                if d < state_distances[idx][0] and d > 0:\n",
    "                    ranks[idx].append((i, d))\n",
    "\n",
    "        for i, rank in enumerate(ranks):\n",
    "            if not rank:\n",
    "                continue\n",
    "            else:\n",
    "                min_rank = min(rank, key=lambda x: x[1])\n",
    "                updated_successor = list(successors[min_rank[0]])\n",
    "                updated_successor[0] = (updated_successor[0][0], updated_successor[0][1], min_rank[1])\n",
    "                successors[min_rank[0]] = tuple(updated_successor)\n",
    "\n",
    "        self._expanded += 1  # DO NOT CHANGE\n",
    "        \n",
    "        return successors"
   ]
  },
  {
   "cell_type": "code",
   "execution_count": null,
   "metadata": {},
   "outputs": [],
   "source": [
    "foodList = foodGrid.asList()\n",
    "\n",
    "    if not foodList:\n",
    "        return 0\n",
    "\n",
    "    # vertices = [f for f in foodList if f != position]\n",
    "    vertices = [position] + foodList\n",
    "    # closest_food = min(((v, util.manhattanDistance(position, v)) for v in vertices), key=lambda x: x[0])\n",
    "    # closest_item, closest_cost = closest_food\n",
    "    # if closest_cost == 0:\n",
    "        # print('ok')\n",
    "    # print(len(vertices))\n",
    "    vertices_cost = {vertex: float('inf') for vertex in vertices}\n",
    "    vertices_cost[closest_item] = 0\n",
    "    visited = set()\n",
    "    mst_cost = 0\n",
    "    while len(visited) < len(vertices):\n",
    "        current_vertex = min((v for v in vertices if v not in visited), key=lambda v: vertices_cost[v])\n",
    "        # if position == problem.start[0] and mst_cost == 0 and len(visited) == 0:\n",
    "        #     print(current_vertex)\n",
    "        visited.add(current_vertex)\n",
    "        mst_cost += vertices_cost[current_vertex]\n",
    "\n",
    "        for vertex in vertices:\n",
    "            dist = util.manhattanDistance(current_vertex, vertex)\n",
    "            if vertex not in visited and dist < vertices_cost[vertex]:\n",
    "                vertices_cost[vertex] = dist\n",
    "\n",
    "    # if len(foodList) == 2:\n",
    "    #     print(f'MST cost: {mst_cost} for {foodList}')\n",
    "    # print('-------')\n",
    "    return mst_cost"
   ]
  },
  {
   "cell_type": "code",
   "execution_count": null,
   "metadata": {},
   "outputs": [],
   "source": [
    "    def updateAdjMatrix(self, currentFood):\n",
    "        foodMap = self.heuristicInfo['foodMap']\n",
    "        currentAdjMatrix = self.heuristicInfo['adjMatrix'].copy()\n",
    "        for i, f in enumerate(foodMap):\n",
    "            if f not in currentFood:\n",
    "                currentAdjMatrix[i, :] = 0\n",
    "                currentAdjMatrix[:, i] = 0\n",
    "        return currentAdjMatrix\n",
    "\n",
    " \n",
    "    def computeMSTCost(self, adj_matrix):\n",
    "\n",
    "        # num_vertices = len(adj_matrix)\n",
    "        # selected = [False] * num_vertices\n",
    "        # key_values = [float('inf')] * num_vertices\n",
    "        # key_values[0] = 0\n",
    "        # mst_weight = 0\n",
    "\n",
    "        # for _ in range(num_vertices):\n",
    "        #     # Find the vertex with the minimum key value not yet added to MST\n",
    "        #     min_value = float('inf')\n",
    "        #     for v in range(num_vertices):\n",
    "        #         if not selected[v] and key_values[v] < min_value:\n",
    "        #             min_value = key_values[v]\n",
    "        #             u = v\n",
    "\n",
    "        #     # Add the selected vertex to MST\n",
    "        #     selected[u] = True\n",
    "        #     mst_weight += min_value\n",
    "\n",
    "        #     # Update the key values of adjacent vertices\n",
    "        #     for v in range(num_vertices):\n",
    "        #         if adj_matrix[u][v] > 0 and not selected[v] and adj_matrix[u][v] < key_values[v]:\n",
    "        #             key_values[v] = adj_matrix[u][v]\n",
    "\n",
    "    # if len(foodList) == 2:\n",
    "    #     print(f'MST cost: {mst_cost} for {foodList}')\n",
    "    # print('-------')\n",
    "    # return mst_cost\n",
    "\n",
    "        # Calculate MST weight using NetworkX\n",
    "        g = nx.from_numpy_array(adj_matrix)\n",
    "        mst = nx.minimum_spanning_tree(g)\n",
    "        m_prime = sum(e[2]['weight'] for e in mst.edges(data=True))\n",
    "        # m_prim = self.primMST(adj_matrix, len(adj_matrix))\n",
    "\n",
    "        # Check if the computed MST weight matches the MST weight computed using your algorithm\n",
    "        # assert m_prime == m_prim, f'm_prime: {m_prime}, m_prim: {m_prim}'\n",
    "\n",
    "\n",
    "\n",
    "        return m_prime"
   ]
  }
 ],
 "metadata": {
  "kernelspec": {
   "display_name": "tensorflow",
   "language": "python",
   "name": "python3"
  },
  "language_info": {
   "codemirror_mode": {
    "name": "ipython",
    "version": 3
   },
   "file_extension": ".py",
   "mimetype": "text/x-python",
   "name": "python",
   "nbconvert_exporter": "python",
   "pygments_lexer": "ipython3",
   "version": "3.10.12"
  }
 },
 "nbformat": 4,
 "nbformat_minor": 2
}
