{
 "cells": [
  {
   "cell_type": "code",
   "execution_count": 42,
   "metadata": {},
   "outputs": [],
   "source": [
    "import pandas as pd\n",
    "import seaborn as sns"
   ]
  },
  {
   "cell_type": "code",
   "execution_count": 44,
   "metadata": {},
   "outputs": [
    {
     "name": "stdout",
     "output_type": "stream",
     "text": [
      "((1, 2), (3, 4), (-1, 2), (5, 7))\n"
     ]
    }
   ],
   "source": [
    "s = ((1,2),(3,4),(-1,2))\n",
    "if (3,2) in s:\n",
    "  print('yes')\n",
    "  \n",
    "s += ((5,7),)\n",
    "print(s)"
   ]
  },
  {
   "cell_type": "code",
   "execution_count": 52,
   "metadata": {},
   "outputs": [
    {
     "name": "stdout",
     "output_type": "stream",
     "text": [
      "2\n"
     ]
    }
   ],
   "source": [
    "print(max(1,2))"
   ]
  },
  {
   "cell_type": "code",
   "execution_count": 55,
   "metadata": {},
   "outputs": [
    {
     "name": "stdout",
     "output_type": "stream",
     "text": [
      "[(7, 49), (8, 64), (9, 81)]\n"
     ]
    }
   ],
   "source": [
    "x = [(9,(2,3)),(7,(1,1)),(8,(2,7))]\n",
    "x.sort(key=lambda x: x[0])\n",
    "y = [(j[0], j[0]**2)  for j in x]\n",
    "print(y)"
   ]
  },
  {
   "cell_type": "code",
   "execution_count": 19,
   "metadata": {},
   "outputs": [
    {
     "name": "stdout",
     "output_type": "stream",
     "text": [
      "None\n",
      "[(-1, 2), (1, 2), (3, 4), (5, 7)]\n"
     ]
    }
   ],
   "source": [
    "print(s.sort(key=lambda x:x[0]))\n",
    "print(s)"
   ]
  },
  {
   "cell_type": "code",
   "execution_count": 28,
   "metadata": {},
   "outputs": [
    {
     "name": "stdout",
     "output_type": "stream",
     "text": [
      "[[(0, 0), (0, -1), (0, -2)], [(0, 0), (1, -1), (2, -2)], [(0, 0), (2, -1), (4, -2)], [(0, 0), (3, -1), (6, -2)], [(0, 0), (4, -1), (8, -2)]]\n"
     ]
    }
   ],
   "source": [
    "X = [[(i*j, -i) for i in range(3)] for j in range(5)]\n",
    "X.sort(key=lambda x: x[0][0])\n",
    "print(X)"
   ]
  },
  {
   "cell_type": "code",
   "execution_count": 41,
   "metadata": {},
   "outputs": [
    {
     "name": "stdout",
     "output_type": "stream",
     "text": [
      "0\n",
      "1\n",
      "2\n"
     ]
    }
   ],
   "source": [
    "k = [(1,2),(4,5),(2,7)]\n",
    "for i in k:\n",
    "  print(k.index(i))"
   ]
  },
  {
   "cell_type": "code",
   "execution_count": null,
   "metadata": {},
   "outputs": [],
   "source": [
    "def cornersHeuristic(state, problem, prev_state):\n",
    "    \"\"\"\n",
    "    A heuristic for the CornersProblem that you defined.\n",
    "\n",
    "      state:   The current search state\n",
    "               (a data structure you chose in your search problem)\n",
    "\n",
    "      problem: The CornersProblem instance for this layout.\n",
    "\n",
    "    This function should always return a number that is a lower bound on the\n",
    "    shortest path from the state to a goal of the problem; i.e.  it should be\n",
    "    admissible (as well as consistent).\n",
    "    \"\"\"\n",
    "    corners = problem.corners # These are the corner coordinates\n",
    "    walls = problem.walls # These are the walls of the maze, as a Grid (game.py)\n",
    "\n",
    "    \"*** YOUR CODE HERE ***\"\n",
    "\n",
    "    if not prev_state:\n",
    "        return min([manhattanDist(state[0], goal) for goal in corners])\n",
    "    prev_pos, prev_corners_reached = prev_state\n",
    "    # if pos in corners:\n",
    "    #     if corners_reached[corners.index(pos)] == True:\n",
    "    #         return 0\n",
    "    \n",
    "    prev_state_distances = [(manhattanDist(prev_pos, goal), corners.index(goal)) for goal in corners if not prev_corners_reached[corners.index(goal)]]\n",
    "\n",
    "    prev_state_distances.sort(key=lambda x: x[0])\n",
    "    \n",
    "    # if not successors:\n",
    "    #     return state_distances[-1][0]\n",
    "    pos, corners_reached = state\n",
    "    state_distances = [(manhattanDist(pos, corners[x[1]]), x[1]) for x in prev_state_distances]\n",
    "    \n",
    "    for idx in range(len(state_distances)):\n",
    "        dist = state_distances[idx][0]\n",
    "        if dist > prev_state_distances[idx][0] and dist > 0:\n",
    "            return dist\n",
    "\n",
    "    return max(state_distances, key=lambda x: x[0])[0]\n",
    "        # if prev_state_distances\n",
    "    \n",
    "    # succ_distances = [[(manhattanDist(s[0][0], goal), corners.index(goal)) for goal in corners if not corners_reached[corners.index(goal)]] for s in successors]\n",
    "    # print(succ_distances)\n",
    "    # print('\\n')\n",
    "    # if not succ_distances[0]:\n",
    "        \n",
    "    # succ_distances.sort(key=lambda x: x[0][0])\n",
    "    \n",
    "    # order_heuristic = [[] for _ in range(len(state_distances))]\n",
    "    \n",
    "    # for idx in range(len(state_distances)):\n",
    "    #     for s in succ_distances:\n",
    "    #         if s[idx][1] == state_distances[idx][1] and s[idx][0] < state_distances[idx][0]:\n",
    "    #             order_heuristic[idx].append(s[idx][0])\n",
    "    #     if order_heuristic[idx]:\n",
    "    #         return min(order_heuristic[idx])\n",
    "\n",
    "    # return state_distances[-1][0]"
   ]
  },
  {
   "cell_type": "code",
   "execution_count": null,
   "metadata": {},
   "outputs": [],
   "source": [
    "  L = PriorityQueue()\n",
    "    \n",
    "    start_node = Node(problem.getStartState(), None, None, 0, [])\n",
    "\n",
    "    # L.push(start_node, start_node.cost + heuristic(start_node.state, problem, []))\n",
    "    L.push(start_node, start_node.cost + heuristic(start_node.state, problem, []))\n",
    "    visited = set()\n",
    "    # H = []\n",
    "    while not L.isEmpty():\n",
    "        current_node = L.pop()\n",
    "        current_state = current_node.state\n",
    "\n",
    "        if problem.isGoalState(current_state):\n",
    "            # print(H)\n",
    "            return current_node.getPath()\n",
    "        # h = []\n",
    "        if current_state not in visited:\n",
    "            visited.add(current_state)\n",
    "            successors = problem.getSuccessors(current_state)\n",
    "            for s in successors:\n",
    "                if s[0] not in visited:\n",
    "                    temp = heuristic(s[0], problem, current_state)\n",
    "                    # h.append(temp)\n",
    "                    L.push(Node(s[0], s[1], current_node, current_node.cost + s[2]), current_node.cost + s[2] + temp)\n",
    "        # H.append(h)\n",
    "    \n",
    "    return []"
   ]
  }
 ],
 "metadata": {
  "kernelspec": {
   "display_name": "tensorflow",
   "language": "python",
   "name": "python3"
  },
  "language_info": {
   "codemirror_mode": {
    "name": "ipython",
    "version": 3
   },
   "file_extension": ".py",
   "mimetype": "text/x-python",
   "name": "python",
   "nbconvert_exporter": "python",
   "pygments_lexer": "ipython3",
   "version": "3.10.12"
  }
 },
 "nbformat": 4,
 "nbformat_minor": 2
}
