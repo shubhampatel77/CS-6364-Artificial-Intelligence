{
 "cells": [
  {
   "cell_type": "code",
   "execution_count": 50,
   "metadata": {},
   "outputs": [
    {
     "name": "stdout",
     "output_type": "stream",
     "text": [
      "damns\n",
      "{'a': 3, 'b': 2, '~b': 1}\n",
      "['a', 'b', '~b']\n"
     ]
    }
   ],
   "source": [
    "clause = ['a','a', 'a','b','b','~b']\n",
    "freq = {l: 0 for l in clause}\n",
    "for l in clause:\n",
    "  freq[l] += 1\n",
    "for l in clause:\n",
    "  if l[0] == '~':\n",
    "    if l[1] in freq:\n",
    "      print('damns')\n",
    "      new_clause = []\n",
    "      print()\n",
    "      break\n",
    "    \n",
    "print(freq)\n",
    "if not new_clause:\n",
    "  new_clause = [l for i, l in enumerate(freq)]\n",
    "# if result\n",
    "# if not new_clause:\n",
    "#   print('ok')\n",
    "print(new_clause)      "
   ]
  },
  {
   "cell_type": "code",
   "execution_count": 53,
   "metadata": {},
   "outputs": [
    {
     "name": "stdout",
     "output_type": "stream",
     "text": [
      "hi you\n"
     ]
    }
   ],
   "source": [
    "a = ['hi','you']\n",
    "b = 'you'\n",
    "res = \" \".join([str(item) for item in a])\n",
    "print(res)\n"
   ]
  }
 ],
 "metadata": {
  "kernelspec": {
   "display_name": "torch",
   "language": "python",
   "name": "python3"
  },
  "language_info": {
   "codemirror_mode": {
    "name": "ipython",
    "version": 3
   },
   "file_extension": ".py",
   "mimetype": "text/x-python",
   "name": "python",
   "nbconvert_exporter": "python",
   "pygments_lexer": "ipython3",
   "version": "3.11.8"
  }
 },
 "nbformat": 4,
 "nbformat_minor": 2
}
